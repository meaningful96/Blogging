{
  "nbformat": 4,
  "nbformat_minor": 0,
  "metadata": {
    "colab": {
      "provenance": []
    },
    "kernelspec": {
      "name": "python3",
      "display_name": "Python 3"
    },
    "language_info": {
      "name": "python"
    }
  },
  "cells": [
    {
      "cell_type": "markdown",
      "source": [
        "## Import libraries"
      ],
      "metadata": {
        "id": "NQoZ4kX_x4mN"
      }
    },
    {
      "cell_type": "code",
      "execution_count": 6,
      "metadata": {
        "id": "V4Cjvo29xsfo"
      },
      "outputs": [],
      "source": [
        "import networkx as nx\n",
        "import requests\n",
        "import json\n",
        "import numpy as np"
      ]
    },
    {
      "cell_type": "markdown",
      "source": [
        "## Building Graphs"
      ],
      "metadata": {
        "id": "IWoh8wl9x8nZ"
      }
    },
    {
      "cell_type": "code",
      "source": [
        "## Constructing Graph Function\n",
        "def nxGraph(url):\n",
        "    response = requests.get(url)\n",
        "    data = response.json()\n",
        "    Undirected_Graph = nx.Graph()\n",
        "    for ex in data:\n",
        "        h, r, t = ex['head_id'], ex['relation'], ex['tail_id']\n",
        "        Undirected_Graph.add_node(h)\n",
        "        Undirected_Graph.add_node(t)\n",
        "        Undirected_Graph.add_edge(h, t, relation = r)\n",
        "    return Undirected_Graph\n",
        "\n",
        "## UMLS\n",
        "path = 'https://raw.githubusercontent.com/meaningful96/Blogging/main/Graph/Dataset/UMLS/train.txt.json'\n",
        "\n",
        "G_umls = nxGraph(path)\n"
      ],
      "metadata": {
        "id": "EwEydU5AxvGS"
      },
      "execution_count": 7,
      "outputs": []
    },
    {
      "cell_type": "code",
      "source": [
        "nodes = list(G_umls.nodes())\n",
        "print(nodes[:5])\n",
        "print(len(nodes))"
      ],
      "metadata": {
        "colab": {
          "base_uri": "https://localhost:8080/"
        },
        "id": "xkVEOlnRx4O0",
        "outputId": "bb6d1d7d-d7d3-43e2-ea5b-ccd587eff668"
      },
      "execution_count": 10,
      "outputs": [
        {
          "output_type": "stream",
          "name": "stdout",
          "text": [
            "['acquired_abnormality', 'experimental_model_of_disease', 'anatomical_abnormality', 'physiologic_function', 'alga']\n",
            "135\n"
          ]
        }
      ]
    },
    {
      "cell_type": "code",
      "source": [
        "# 그래프 density 계산\n",
        "density = nx.density(G_umls)\n",
        "\n",
        "# 그래프 sparsity 계산\n",
        "sparsity = 1 - density\n",
        "\n",
        "# 결과 출력\n",
        "print(f\"Graph density: {density}\")\n",
        "print(f\"Graph sparsity: {sparsity}\")"
      ],
      "metadata": {
        "colab": {
          "base_uri": "https://localhost:8080/"
        },
        "id": "yRRfj4fL0uuc",
        "outputId": "1891aace-d529-46ce-82ec-55cc9fdb2f9d"
      },
      "execution_count": 11,
      "outputs": [
        {
          "output_type": "stream",
          "name": "stdout",
          "text": [
            "Graph density: 0.34328358208955223\n",
            "Graph sparsity: 0.6567164179104478\n"
          ]
        }
      ]
    },
    {
      "cell_type": "code",
      "source": [],
      "metadata": {
        "id": "AF7XAr2y1Ed_"
      },
      "execution_count": null,
      "outputs": []
    }
  ]
}